{
 "cells": [
  {
   "cell_type": "code",
   "execution_count": 1,
   "metadata": {},
   "outputs": [],
   "source": [
    "# import modules, styles and dependencies\n",
    "%matplotlib inline\n",
    "%matplotlib notebook\n",
    "import numpy as np\n",
    "import pandas as pd\n",
    "import datetime as dt\n",
    "from matplotlib import style\n",
    "import matplotlib.pyplot as plt\n",
    "plt.style.use('seaborn')\n",
    "from datetime import timedelta, date"
   ]
  },
  {
   "cell_type": "markdown",
   "metadata": {},
   "source": [
    "# Reflect Tables into SQLAlchemy ORM"
   ]
  },
  {
   "cell_type": "code",
   "execution_count": 2,
   "metadata": {},
   "outputs": [],
   "source": [
    "# python SQL toolkit and Object Relational Mapper\n",
    "import sqlalchemy\n",
    "from sqlalchemy.ext.automap import automap_base\n",
    "from sqlalchemy.orm import Session\n",
    "from sqlalchemy import create_engine, func"
   ]
  },
  {
   "cell_type": "code",
   "execution_count": 3,
   "metadata": {},
   "outputs": [],
   "source": [
    "# Create a connection to a SQLite database\n",
    "engine = create_engine(\"sqlite:///Resources/hawaii.sqlite\")\n",
    "conn = engine.connect()"
   ]
  },
  {
   "cell_type": "code",
   "execution_count": 4,
   "metadata": {},
   "outputs": [],
   "source": [
    "# reflect an existing database into a new model\n",
    "Base = automap_base()\n",
    "\n",
    "# reflect the tables\n",
    "Base.prepare(engine, reflect=True)"
   ]
  },
  {
   "cell_type": "code",
   "execution_count": 5,
   "metadata": {},
   "outputs": [
    {
     "data": {
      "text/plain": [
       "['measurement', 'station']"
      ]
     },
     "execution_count": 5,
     "metadata": {},
     "output_type": "execute_result"
    }
   ],
   "source": [
    "# view the classes from automap\n",
    "Base.classes.keys()"
   ]
  },
  {
   "cell_type": "code",
   "execution_count": 6,
   "metadata": {},
   "outputs": [],
   "source": [
    "# Save references to each table\n",
    "Measurement = Base.classes.measurement\n",
    "Station = Base.classes.station"
   ]
  },
  {
   "cell_type": "code",
   "execution_count": 7,
   "metadata": {},
   "outputs": [],
   "source": [
    "# create our session (link) from Python to the DB\n",
    "session = Session(engine)"
   ]
  },
  {
   "cell_type": "markdown",
   "metadata": {},
   "source": [
    "# Exploratory Climate Analysis"
   ]
  },
  {
   "cell_type": "code",
   "execution_count": 8,
   "metadata": {
    "scrolled": true
   },
   "outputs": [
    {
     "data": {
      "text/html": [
       "<div>\n",
       "<style scoped>\n",
       "    .dataframe tbody tr th:only-of-type {\n",
       "        vertical-align: middle;\n",
       "    }\n",
       "\n",
       "    .dataframe tbody tr th {\n",
       "        vertical-align: top;\n",
       "    }\n",
       "\n",
       "    .dataframe thead th {\n",
       "        text-align: right;\n",
       "    }\n",
       "</style>\n",
       "<table border=\"1\" class=\"dataframe\">\n",
       "  <thead>\n",
       "    <tr style=\"text-align: right;\">\n",
       "      <th></th>\n",
       "      <th>Precipitation</th>\n",
       "    </tr>\n",
       "    <tr>\n",
       "      <th>Date</th>\n",
       "      <th></th>\n",
       "    </tr>\n",
       "  </thead>\n",
       "  <tbody>\n",
       "    <tr>\n",
       "      <th>2016-08-06</th>\n",
       "      <td>0.03</td>\n",
       "    </tr>\n",
       "    <tr>\n",
       "      <th>2016-08-07</th>\n",
       "      <td>0.015</td>\n",
       "    </tr>\n",
       "    <tr>\n",
       "      <th>2016-08-08</th>\n",
       "      <td>0.0175</td>\n",
       "    </tr>\n",
       "    <tr>\n",
       "      <th>2016-08-09</th>\n",
       "      <td>0.075</td>\n",
       "    </tr>\n",
       "    <tr>\n",
       "      <th>2016-08-10</th>\n",
       "      <td>0.0466667</td>\n",
       "    </tr>\n",
       "  </tbody>\n",
       "</table>\n",
       "</div>"
      ],
      "text/plain": [
       "           Precipitation\n",
       "Date                    \n",
       "2016-08-06          0.03\n",
       "2016-08-07         0.015\n",
       "2016-08-08        0.0175\n",
       "2016-08-09         0.075\n",
       "2016-08-10     0.0466667"
      ]
     },
     "execution_count": 8,
     "metadata": {},
     "output_type": "execute_result"
    }
   ],
   "source": [
    "# pull 1 year worth of data from 2017-8-5\n",
    "start_date = dt.datetime.strptime(\"2017-8-5\", \"%Y-%m-%d\")\n",
    "numdays = 365\n",
    "date_list = [start_date - dt.timedelta(days = x)for x in range(0, numdays)]\n",
    "\n",
    "# set up empty list to append dates as strings\n",
    "str_dates = []\n",
    "\n",
    "# set up loop to pull dates and add to list\n",
    "for date in date_list:\n",
    "    new_date = date.strftime(\"%Y-%m-%d\")\n",
    "    str_dates.append(new_date)\n",
    "\n",
    "# pull precipitation (prcp) info\n",
    "prcp_results = session.query(func.avg(Measurement.prcp), Measurement.date)\\\n",
    "                .filter(Measurement.date.in_(str_dates))\\\n",
    "                .group_by(Measurement.date)\n",
    "\n",
    "# set up empty list to append precipiation info\n",
    "prcp_data = []\n",
    "for res in prcp_results:\n",
    "    prcp_data.append(res[0])\n",
    "    \n",
    "# set up the query results as a Pandas DataFrame\n",
    "prcp_df = pd.DataFrame([str_dates[::-1], prcp_data[::-1]]).T\n",
    "prcp_df.rename(columns = {0: \"Date\", 1: \"Precipitation\"}, inplace = True)\n",
    "prcp_df.set_index(\"Date\", inplace = True)\n",
    "prcp_df.head()"
   ]
  },
  {
   "cell_type": "code",
   "execution_count": 59,
   "metadata": {},
   "outputs": [
    {
     "data": {
      "text/plain": [
       "<function matplotlib.pyplot.show(*args, **kw)>"
      ]
     },
     "execution_count": 59,
     "metadata": {},
     "output_type": "execute_result"
    },
    {
     "data": {
      "image/png": "[encoded data removed]",
      "text/plain": [
       "<Figure size 432x288 with 1 Axes>"
      ]
     },
     "metadata": {},
     "output_type": "display_data"
    }
   ],
   "source": [
    "# Use Pandas Plotting with Matplotlib to plot the data\n",
    "prcp_df.plot(color=\"gold\")\n",
    "plt.title(\"Precipitation\", fontsize=15)\n",
    "plt.ylabel(\"Inches\", fontsize=15)\n",
    "plt.savefig(\"images/precipitation.png\")\n",
    "plt.show"
   ]
  },
  {
   "cell_type": "code",
   "execution_count": 10,
   "metadata": {},
   "outputs": [
    {
     "data": {
      "text/html": [
       "<div>\n",
       "<style scoped>\n",
       "    .dataframe tbody tr th:only-of-type {\n",
       "        vertical-align: middle;\n",
       "    }\n",
       "\n",
       "    .dataframe tbody tr th {\n",
       "        vertical-align: top;\n",
       "    }\n",
       "\n",
       "    .dataframe thead th {\n",
       "        text-align: right;\n",
       "    }\n",
       "</style>\n",
       "<table border=\"1\" class=\"dataframe\">\n",
       "  <thead>\n",
       "    <tr style=\"text-align: right;\">\n",
       "      <th></th>\n",
       "      <th>Precipitation</th>\n",
       "    </tr>\n",
       "    <tr>\n",
       "      <th>Date</th>\n",
       "      <th></th>\n",
       "    </tr>\n",
       "  </thead>\n",
       "  <tbody>\n",
       "    <tr>\n",
       "      <th>2016-08-06</th>\n",
       "      <td>0.03</td>\n",
       "    </tr>\n",
       "    <tr>\n",
       "      <th>2016-08-07</th>\n",
       "      <td>0.015</td>\n",
       "    </tr>\n",
       "    <tr>\n",
       "      <th>2016-08-08</th>\n",
       "      <td>0.0175</td>\n",
       "    </tr>\n",
       "    <tr>\n",
       "      <th>2016-08-09</th>\n",
       "      <td>0.075</td>\n",
       "    </tr>\n",
       "    <tr>\n",
       "      <th>2016-08-10</th>\n",
       "      <td>0.0466667</td>\n",
       "    </tr>\n",
       "  </tbody>\n",
       "</table>\n",
       "</div>"
      ],
      "text/plain": [
       "           Precipitation\n",
       "Date                    \n",
       "2016-08-06          0.03\n",
       "2016-08-07         0.015\n",
       "2016-08-08        0.0175\n",
       "2016-08-09         0.075\n",
       "2016-08-10     0.0466667"
      ]
     },
     "execution_count": 10,
     "metadata": {},
     "output_type": "execute_result"
    }
   ],
   "source": [
    "prcp_df.head()"
   ]
  },
  {
   "cell_type": "code",
   "execution_count": 11,
   "metadata": {},
   "outputs": [
    {
     "data": {
      "text/plain": [
       "count     365.0\n",
       "unique    232.0\n",
       "top         0.0\n",
       "freq       46.0\n",
       "Name: Precipitation, dtype: float64"
      ]
     },
     "execution_count": 11,
     "metadata": {},
     "output_type": "execute_result"
    }
   ],
   "source": [
    "# display summary stats for precipitation data\n",
    "prcp_df[\"Precipitation\"].describe()"
   ]
  },
  {
   "cell_type": "code",
   "execution_count": 12,
   "metadata": {},
   "outputs": [
    {
     "data": {
      "text/plain": [
       "(9)"
      ]
     },
     "execution_count": 12,
     "metadata": {},
     "output_type": "execute_result"
    }
   ],
   "source": [
    "# find the total active stations\n",
    "stations = session.query(func.count(Station.station))\n",
    "station_count = stations[0]\n",
    "station_count"
   ]
  },
  {
   "cell_type": "code",
   "execution_count": 13,
   "metadata": {},
   "outputs": [
    {
     "name": "stdout",
     "output_type": "stream",
     "text": [
      "('USC00519281', 2772)\n",
      "('USC00513117', 2696)\n",
      "('USC00519397', 2685)\n",
      "('USC00519523', 2572)\n",
      "('USC00516128', 2484)\n",
      "('USC00514830', 1937)\n",
      "('USC00511918', 1932)\n",
      "('USC00517948', 683)\n",
      "('USC00518838', 342)\n"
     ]
    }
   ],
   "source": [
    "# list the most active stations in descending order\n",
    "station_counts = session.query(Measurement.station, func.count(Measurement.prcp))\\\n",
    "             .group_by(Measurement.station)\\\n",
    "             .order_by(func.count(Measurement.prcp).desc())\n",
    "\n",
    "# print stations\n",
    "for station in station_counts:\n",
    "    print(station)\n",
    "    \n",
    "# set a variable for station names\n",
    "active_station = station_counts[0][0]"
   ]
  },
  {
   "cell_type": "code",
   "execution_count": 14,
   "metadata": {},
   "outputs": [],
   "source": [
    "# find the lowest temp, highest temp, and avg temp\n",
    "tobs_results = session.query(Measurement.tobs)\\\n",
    "              .filter(Measurement.date.in_(str_dates))\\\n",
    "              .filter(Measurement.station == active_station)\n",
    "\n",
    "tobs_data = []\n",
    "for row in tobs_results:\n",
    "    tobs_data.append(row[0])"
   ]
  },
  {
   "cell_type": "code",
   "execution_count": 50,
   "metadata": {},
   "outputs": [
    {
     "data": {
      "image/png": "[encoded data removed]",
      "text/plain": [
       "<Figure size 432x288 with 1 Axes>"
      ]
     },
     "metadata": {},
     "output_type": "display_data"
    }
   ],
   "source": [
    "# set colomap to something fun\n",
    "cm = plt.cm.get_cmap('gnuplot')\n",
    "\n",
    "# set up histogram and settings\n",
    "n, bins, patches = plt.hist(tobs_data, bins=12, color='green', rwidth=.9)\n",
    "\n",
    "# set title\n",
    "plt.title(\"Station Code: USC00519281\", fontsize=15)\n",
    "\n",
    "# set up y label\n",
    "plt.ylabel(\"Frequency\", fontsize=15)\n",
    "\n",
    "# normalize color values\n",
    "col = (n-n.min())/(n.max()-n.min())\n",
    "for c, p in zip(col, patches):\n",
    "    plt.setp(p, 'facecolor', cm(c))\n",
    "plt.savefig(\"images/bar_graph.png\")\n",
    "plt.show()"
   ]
  },
  {
   "cell_type": "code",
   "execution_count": 16,
   "metadata": {},
   "outputs": [],
   "source": [
    "# find the min, avg, and max temps for date range\n",
    "def calc_temps(start_date, end_date):\n",
    " # convert to datetime\n",
    "    startDate = dt.datetime.strptime(start_date, \"%Y-%m-%d\")\n",
    "    startDate = startDate.replace(startDate.year - 1)\n",
    "    endDate = dt.datetime.strptime(end_date, \"%Y-%m-%d\")\n",
    "    endDate = endDate.replace(endDate.year - 1)\n",
    "    \n",
    "# get date range\n",
    "    delta = endDate - startDate\n",
    "    date_range = []\n",
    "    for i in range(delta.days + 1):\n",
    "        date_range.append(startDate + timedelta(days=i))\n",
    "        \n",
    "    # convert to string\n",
    "    str_date_range = []\n",
    "    for date in date_range:\n",
    "        new_date = date.strftime(\"%Y-%m-%d\")\n",
    "        str_date_range.append(new_date)\n",
    "        \n",
    "    # get stats    \n",
    "    temp_avg = session.query(func.avg(Measurement.tobs))\\\n",
    "               .filter(Measurement.date.in_(str_date_range))[0][0]\n",
    "    temp_min = session.query(func.min(Measurement.tobs))\\\n",
    "               .filter(Measurement.date.in_(str_date_range))[0][0]\n",
    "    temp_max = session.query(func.max(Measurement.tobs))\\\n",
    "               .filter(Measurement.date.in_(str_date_range))[0][0]\n",
    "        \n",
    "    return temp_avg, temp_min, temp_max"
   ]
  },
  {
   "cell_type": "code",
   "execution_count": 17,
   "metadata": {},
   "outputs": [],
   "source": [
    "# calculate the tmin, tavg, and tmax for date range\n",
    "temp_analysis = calc_temps(\"2016-05-06\", \"2016-05-12\")\n",
    "\n",
    "# set up variables to store data\n",
    "tavg = temp_analysis[0]\n",
    "tmin = temp_analysis[1]\n",
    "tmax = temp_analysis[2]"
   ]
  },
  {
   "cell_type": "code",
   "execution_count": 60,
   "metadata": {},
   "outputs": [
    {
     "data": {
      "image/png": "[encoded data removed]",
      "text/plain": [
       "<Figure size 144x360 with 1 Axes>"
      ]
     },
     "metadata": {},
     "output_type": "display_data"
    }
   ],
   "source": [
    "# set up average trip temperature graph\n",
    "plt.figure(figsize=(2,5))\n",
    "plt.bar(1,height=tavg, yerr=(tmax-tmin), width=0.0001, alpha=0.6, color=\"gold\")\n",
    "plt.title(\"Average Trip Temperature\",fontsize=15)\n",
    "plt.xticks([])\n",
    "plt.ylim(0,100)\n",
    "plt.ylabel(\"Temp $F^o$\", fontsize=15)\n",
    "plt.savefig(\"images/Trip_Avg_Temp.png\") \n",
    "plt.show()"
   ]
  }
 ],
 "metadata": {
  "kernel_info": {
   "name": "python3"
  },
  "kernelspec": {
   "display_name": "Python 3",
   "language": "python",
   "name": "python3"
  },
  "language_info": {
   "codemirror_mode": {
    "name": "ipython",
    "version": 3
   },
   "file_extension": ".py",
   "mimetype": "text/x-python",
   "name": "python",
   "nbconvert_exporter": "python",
   "pygments_lexer": "ipython3",
   "version": "3.6.5"
  },
  "nteract": {
   "version": "0.9.1"
  },
  "varInspector": {
   "cols": {
    "lenName": 16,
    "lenType": 16,
    "lenVar": 40
   },
   "kernels_config": {
    "python": {
     "delete_cmd_postfix": "",
     "delete_cmd_prefix": "del ",
     "library": "var_list.py",
     "varRefreshCmd": "print(var_dic_list())"
    },
    "r": {
     "delete_cmd_postfix": ") ",
     "delete_cmd_prefix": "rm(",
     "library": "var_list.r",
     "varRefreshCmd": "cat(var_dic_list()) "
    }
   },
   "types_to_exclude": [
    "module",
    "function",
    "builtin_function_or_method",
    "instance",
    "_Feature"
   ],
   "window_display": false
  }
 },
 "nbformat": 4,
 "nbformat_minor": 2
}
